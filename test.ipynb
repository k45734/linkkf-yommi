{
 "cells": [
  {
   "cell_type": "code",
   "execution_count": 17,
   "metadata": {
    "collapsed": true
   },
   "outputs": [
    {
     "name": "stdout",
     "output_type": "stream",
     "text": [
      "('', 'https://video-ams4-1.xx.fbcdn.net/v/t42.27313-2/10000000_640011683721673_7904928311850849175_n.mp4?_nc_cat=103&vs=e669a011a80e169a&_nc_vs=HBksFQAYJEdJQ1dtQURKY1E5VkZrWUNBSmRUek9KcThyTnRickZxQUFBRhUAAsgBABUAGCRHSUNXbUFCVkp2WjNJS2dCQUVyMDloNDNsczFFYnJGcUFBQUYVAgLIAQBLBogScHJvZ3Jlc3NpdmVfcmVjaXBlATENc3Vic2FtcGxlX2ZwcwAQdm1hZl9lbmFibGVfbnN1YgAgbWVhc3VyZV9vcmlnaW5hbF9yZXNvbHV0aW9uX3NzaW0AKGNvbXB1dGVfc3NpbV9vbmx5X2F0X29yaWdpbmFsX3Jlc29sdXRpb24AEWRpc2FibGVfcG9zdF9wdnFzABUAJQAcAAAmvIvc9sLCfhWQTigCQzMYC3Z0c19wcmV2aWV3HBdAllrkWhysCBgpZGFzaF9pNGxpdGViYXNpY181c2VjZ29wX2hxMl9mcmFnXzJfdmlkZW8SABgYdmlkZW9zLnZ0cy5jYWxsYmFjay5wcm9kGRwVABWgtgQAKBJWSURFT19WSUVXX1JFUVVFU1QbDYgVb2VtX3RhcmdldF9lbmNvZGVfdGFnBm9lcF9oZBNvZW1fcmVxdWVzdF90aW1lX21zDTE2NDQxMjExMTQ2NjEMb2VtX2NmZ19ydWxlB3VubXV0ZWQTb2VtX3JvaV9yZWFjaF9jb3VudAEwDG9lbV9yb2lfbm90ZQtwcm9ncmVzc2l2ZRFvZW1fcm9pX3VzZXJfdGllcgAeb2VtX3JvaV9wcmVkaWN0ZWRfd2F0Y2hfdGltZV9zATAWb2VtX3JvaV9yZWNpcGVfYmVuZWZpdAUwLjAwMCVvZW1fcm9pX3N0YXRpY19iZW5lZml0X2Nvc3RfZXZhbHVhdG9yC3Byb2dyZXNzaXZlDG9lbV92aWRlb19pZBAxMTg2MTM1MzgxOTIxNzk3Em9lbV92aWRlb19hc3NldF9pZBAxMDgwMTU4NjE2MTYzOTU4FW9lbV92aWRlb19yZXNvdXJjZV9pZA8yNzgyMTk3ODQ0MjIxMTAcb2VtX3NvdXJjZV92aWRlb19lbmNvZGluZ19pZA82OTk0MjYxMzE0MjkyMjglAhwcHBXw5hcbAVUAAhsBVQACHBUCAAAAFoC6twMAJcQBGweIAXMEOTQ0OAJjZAoyMDIyLTAyLTA1A3JjYgEwA2FwcAVWaWRlbwJjdBlDT05UQUlORURfUE9TVF9BVFRBQ0hNRU5UE29yaWdpbmFsX2R1cmF0aW9uX3MHMTQzMC43OQJ0cxVwcm9ncmVzc2l2ZV9lbmNvZGluZ3MA&ccb=1-5&_nc_sid=41a7d5&_nc_ohc=wOTEQsdZPdUAX-QhEuy&_nc_ht=video-ams4-1.xx&oh=00_AT9klX36ijrlO5hAOmvTSpocQvq5m-cfTB0KFCcbqCiarw&oe=62010F87&_nc_rid=dd8660333c0444f')\n",
      "\n",
      "https://video-ams4-1.xx.fbcdn.net/v/t42.27313-2/10000000_640011683721673_7904928311850849175_n.mp4?_nc_cat=103&vs=e669a011a80e169a&_nc_vs=HBksFQAYJEdJQ1dtQURKY1E5VkZrWUNBSmRUek9KcThyTnRickZxQUFBRhUAAsgBABUAGCRHSUNXbUFCVkp2WjNJS2dCQUVyMDloNDNsczFFYnJGcUFBQUYVAgLIAQBLBogScHJvZ3Jlc3NpdmVfcmVjaXBlATENc3Vic2FtcGxlX2ZwcwAQdm1hZl9lbmFibGVfbnN1YgAgbWVhc3VyZV9vcmlnaW5hbF9yZXNvbHV0aW9uX3NzaW0AKGNvbXB1dGVfc3NpbV9vbmx5X2F0X29yaWdpbmFsX3Jlc29sdXRpb24AEWRpc2FibGVfcG9zdF9wdnFzABUAJQAcAAAmvIvc9sLCfhWQTigCQzMYC3Z0c19wcmV2aWV3HBdAllrkWhysCBgpZGFzaF9pNGxpdGViYXNpY181c2VjZ29wX2hxMl9mcmFnXzJfdmlkZW8SABgYdmlkZW9zLnZ0cy5jYWxsYmFjay5wcm9kGRwVABWgtgQAKBJWSURFT19WSUVXX1JFUVVFU1QbDYgVb2VtX3RhcmdldF9lbmNvZGVfdGFnBm9lcF9oZBNvZW1fcmVxdWVzdF90aW1lX21zDTE2NDQxMjExMTQ2NjEMb2VtX2NmZ19ydWxlB3VubXV0ZWQTb2VtX3JvaV9yZWFjaF9jb3VudAEwDG9lbV9yb2lfbm90ZQtwcm9ncmVzc2l2ZRFvZW1fcm9pX3VzZXJfdGllcgAeb2VtX3JvaV9wcmVkaWN0ZWRfd2F0Y2hfdGltZV9zATAWb2VtX3JvaV9yZWNpcGVfYmVuZWZpdAUwLjAwMCVvZW1fcm9pX3N0YXRpY19iZW5lZml0X2Nvc3RfZXZhbHVhdG9yC3Byb2dyZXNzaXZlDG9lbV92aWRlb19pZBAxMTg2MTM1MzgxOTIxNzk3Em9lbV92aWRlb19hc3NldF9pZBAxMDgwMTU4NjE2MTYzOTU4FW9lbV92aWRlb19yZXNvdXJjZV9pZA8yNzgyMTk3ODQ0MjIxMTAcb2VtX3NvdXJjZV92aWRlb19lbmNvZGluZ19pZA82OTk0MjYxMzE0MjkyMjglAhwcHBXw5hcbAVUAAhsBVQACHBUCAAAAFoC6twMAJcQBGweIAXMEOTQ0OAJjZAoyMDIyLTAyLTA1A3JjYgEwA2FwcAVWaWRlbwJjdBlDT05UQUlORURfUE9TVF9BVFRBQ0hNRU5UE29yaWdpbmFsX2R1cmF0aW9uX3MHMTQzMC43OQJ0cxVwcm9ncmVzc2l2ZV9lbmNvZGluZ3MA&ccb=1-5&_nc_sid=41a7d5&_nc_ohc=wOTEQsdZPdUAX-QhEuy&_nc_ht=video-ams4-1.xx&oh=00_AT9klX36ijrlO5hAOmvTSpocQvq5m-cfTB0KFCcbqCiarw&oe=62010F87&_nc_rid=dd8660333c0444f\n",
      "video_url: https://video-ams4-1.xx.fbcdn.net/v/t42.27313-2/10000000_640011683721673_7904928311850849175_n.mp4?_nc_cat=103&vs=e669a011a80e169a&_nc_vs=HBksFQAYJEdJQ1dtQURKY1E5VkZrWUNBSmRUek9KcThyTnRickZxQUFBRhUAAsgBABUAGCRHSUNXbUFCVkp2WjNJS2dCQUVyMDloNDNsczFFYnJGcUFBQUYVAgLIAQBLBogScHJvZ3Jlc3NpdmVfcmVjaXBlATENc3Vic2FtcGxlX2ZwcwAQdm1hZl9lbmFibGVfbnN1YgAgbWVhc3VyZV9vcmlnaW5hbF9yZXNvbHV0aW9uX3NzaW0AKGNvbXB1dGVfc3NpbV9vbmx5X2F0X29yaWdpbmFsX3Jlc29sdXRpb24AEWRpc2FibGVfcG9zdF9wdnFzABUAJQAcAAAmvIvc9sLCfhWQTigCQzMYC3Z0c19wcmV2aWV3HBdAllrkWhysCBgpZGFzaF9pNGxpdGViYXNpY181c2VjZ29wX2hxMl9mcmFnXzJfdmlkZW8SABgYdmlkZW9zLnZ0cy5jYWxsYmFjay5wcm9kGRwVABWgtgQAKBJWSURFT19WSUVXX1JFUVVFU1QbDYgVb2VtX3RhcmdldF9lbmNvZGVfdGFnBm9lcF9oZBNvZW1fcmVxdWVzdF90aW1lX21zDTE2NDQxMjExMTQ2NjEMb2VtX2NmZ19ydWxlB3VubXV0ZWQTb2VtX3JvaV9yZWFjaF9jb3VudAEwDG9lbV9yb2lfbm90ZQtwcm9ncmVzc2l2ZRFvZW1fcm9pX3VzZXJfdGllcgAeb2VtX3JvaV9wcmVkaWN0ZWRfd2F0Y2hfdGltZV9zATAWb2VtX3JvaV9yZWNpcGVfYmVuZWZpdAUwLjAwMCVvZW1fcm9pX3N0YXRpY19iZW5lZml0X2Nvc3RfZXZhbHVhdG9yC3Byb2dyZXNzaXZlDG9lbV92aWRlb19pZBAxMTg2MTM1MzgxOTIxNzk3Em9lbV92aWRlb19hc3NldF9pZBAxMDgwMTU4NjE2MTYzOTU4FW9lbV92aWRlb19yZXNvdXJjZV9pZA8yNzgyMTk3ODQ0MjIxMTAcb2VtX3NvdXJjZV92aWRlb19lbmNvZGluZ19pZA82OTk0MjYxMzE0MjkyMjglAhwcHBXw5hcbAVUAAhsBVQACHBUCAAAAFoC6twMAJcQBGweIAXMEOTQ0OAJjZAoyMDIyLTAyLTA1A3JjYgEwA2FwcAVWaWRlbwJjdBlDT05UQUlORURfUE9TVF9BVFRBQ0hNRU5UE29yaWdpbmFsX2R1cmF0aW9uX3MHMTQzMC43OQJ0cxVwcm9ncmVzc2l2ZV9lbmNvZGluZ3MA&ccb=1-5&_nc_sid=41a7d5&_nc_ohc=wOTEQsdZPdUAX-QhEuy&_nc_ht=video-ams4-1.xx&oh=00_AT9klX36ijrlO5hAOmvTSpocQvq5m-cfTB0KFCcbqCiarw&oe=62010F87&_nc_rid=dd8660333c0444f\n"
     ]
    }
   ],
   "source": [
    "import re\n",
    "\n",
    "test_string = \"\"\"\n",
    "class=\"video-js vjs-default-skin vjs-16-9\"\\r\\n    controlsList=\"nodownload\"\\r\\n    preload=\"none\"\\r\\n    controls\\r\\n    preload=\"auto\"\\r\\n    width=\"640\"\\r\\n    height=\"264\"\\r\\n    data-setup=\"{}\"\\r\\n  >\\r\\n\\t\\r\\n<track kind=\"captions\" src=\"/s/22005m1009.vtt\" srclang=\"ko\" label=\"자막 애니\" default >\\r\\n<source src=\"https://video-ams4-1.xx.fbcdn.net/v/t42.27313-2/10000000_640011683721673_7904928311850849175_n.mp4?_nc_cat=103&vs=e669a011a80e169a&_nc_vs=HBksFQAYJEdJQ1dtQURKY1E5VkZrWUNBSmRUek9KcThyTnRickZxQUFBRhUAAsgBABUAGCRHSUNXbUFCVkp2WjNJS2dCQUVyMDloNDNsczFFYnJGcUFBQUYVAgLIAQBLBogScHJvZ3Jlc3NpdmVfcmVjaXBlATENc3Vic2FtcGxlX2ZwcwAQdm1hZl9lbmFibGVfbnN1YgAgbWVhc3VyZV9vcmlnaW5hbF9yZXNvbHV0aW9uX3NzaW0AKGNvbXB1dGVfc3NpbV9vbmx5X2F0X29yaWdpbmFsX3Jlc29sdXRpb24AEWRpc2FibGVfcG9zdF9wdnFzABUAJQAcAAAmvIvc9sLCfhWQTigCQzMYC3Z0c19wcmV2aWV3HBdAllrkWhysCBgpZGFzaF9pNGxpdGViYXNpY181c2VjZ29wX2hxMl9mcmFnXzJfdmlkZW8SABgYdmlkZW9zLnZ0cy5jYWxsYmFjay5wcm9kGRwVABWgtgQAKBJWSURFT19WSUVXX1JFUVVFU1QbDYgVb2VtX3RhcmdldF9lbmNvZGVfdGFnBm9lcF9oZBNvZW1fcmVxdWVzdF90aW1lX21zDTE2NDQxMjExMTQ2NjEMb2VtX2NmZ19ydWxlB3VubXV0ZWQTb2VtX3JvaV9yZWFjaF9jb3VudAEwDG9lbV9yb2lfbm90ZQtwcm9ncmVzc2l2ZRFvZW1fcm9pX3VzZXJfdGllcgAeb2VtX3JvaV9wcmVkaWN0ZWRfd2F0Y2hfdGltZV9zATAWb2VtX3JvaV9yZWNpcGVfYmVuZWZpdAUwLjAwMCVvZW1fcm9pX3N0YXRpY19iZW5lZml0X2Nvc3RfZXZhbHVhdG9yC3Byb2dyZXNzaXZlDG9lbV92aWRlb19pZBAxMTg2MTM1MzgxOTIxNzk3Em9lbV92aWRlb19hc3NldF9pZBAxMDgwMTU4NjE2MTYzOTU4FW9lbV92aWRlb19yZXNvdXJjZV9pZA8yNzgyMTk3ODQ0MjIxMTAcb2VtX3NvdXJjZV92aWRlb19lbmNvZGluZ19pZA82OTk0MjYxMzE0MjkyMjglAhwcHBXw5hcbAVUAAhsBVQACHBUCAAAAFoC6twMAJcQBGweIAXMEOTQ0OAJjZAoyMDIyLTAyLTA1A3JjYgEwA2FwcAVWaWRlbwJjdBlDT05UQUlORURfUE9TVF9BVFRBQ0hNRU5UE29yaWdpbmFsX2R1cmF0aW9uX3MHMTQzMC43OQJ0cxVwcm9ncmVzc2l2ZV9lbmNvZGluZ3MA&ccb=1-5&_nc_sid=41a7d5&_nc_ohc=wOTEQsdZPdUAX-QhEuy&_nc_ht=video-ams4-1.xx&oh=00_AT9klX36ijrlO5hAOmvTSpocQvq5m-cfTB0KFCcbqCiarw&oe=62010F87&_nc_rid=dd8660333c0444f\" type=\"video/mp4\" />\\r\\n\\r\\n\\r\\n</video>\\r\\n\\r\\n<script language=\"JavaScript\">\\r\\nvideojs(\\'my-video\\', {\\r\\n  playbackRates: [0.5, 1, 1.5, 2]\\r\\n});\\r\\n var player = videojs(\\'my-video\\');\\r\\n\\r\\nplayer.aspectRatioPanel();\\r\\nplayer.mobileUi();\\r\\n    window.onload = function() {\\r\\n        document.addEventListener(\"contextmenu\", function(e) {\\r\\n            e.preventDefault();\\r\\n        }, false);\\r\\n        document.addEventListener(\"keydown\", function(e) {\\r\\n            //document.onkeydown = function(e) {\\r\\n            // \"I\" key\\r\\n            if (e.ctrlKey && e.shiftKey && e.keyCode == 73) {\\r\\n                disabledEvent(e);\\r\\n            }\\r\\n            // \"J\" key\\r\\n            if (e.ctrlKey && e.shiftKey && e.keyCode == 74) {\\r\\n                disabledEvent(e);\\r\\n            }\\r\\n\n",
    "\"aaaaaaaaaaaaaaaaaaaaa.m3u8\"\n",
    "\"\"\"\n",
    "\n",
    "\n",
    "regex2 = r'\"([^\\\"]*m3u8)\"|<source[^>]+src=\\\"([^\"]+)'\n",
    "\n",
    "temp_url = re.findall(regex2, test_string)[0]\n",
    "\n",
    "print(temp_url)\n",
    "# video_url = any(map(lambda  x: x is None, temp_url))\n",
    "video_url = ''\n",
    "for i in temp_url:\n",
    "    print(i)\n",
    "    if i is None:\n",
    "        continue\n",
    "    video_url = i\n",
    "\n",
    "# video_url\n",
    "print(f'video_url: {video_url}')\n",
    "# print(type(video_url))"
   ]
  },
  {
   "cell_type": "code",
   "execution_count": null,
   "outputs": [],
   "source": [],
   "metadata": {
    "collapsed": false,
    "pycharm": {
     "name": "#%%\n"
    }
   }
  }
 ],
 "metadata": {
  "kernelspec": {
   "display_name": "Python 3",
   "language": "python",
   "name": "python3"
  },
  "language_info": {
   "codemirror_mode": {
    "name": "ipython",
    "version": 2
   },
   "file_extension": ".py",
   "mimetype": "text/x-python",
   "name": "python",
   "nbconvert_exporter": "python",
   "pygments_lexer": "ipython2",
   "version": "2.7.6"
  }
 },
 "nbformat": 4,
 "nbformat_minor": 0
}